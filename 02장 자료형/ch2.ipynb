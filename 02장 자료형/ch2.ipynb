{
 "cells": [
  {
   "cell_type": "markdown",
   "metadata": {},
   "source": [
    "##### 점프 투 파이썬\n",
    "---\n",
    "02장 연습문제"
   ]
  },
  {
   "cell_type": "markdown",
   "metadata": {},
   "source": [
    "> Q1    \n",
    "``` py\n",
    "    홍길동 씨의 과목별 점수는 다음과 같다. 홍길동 씨의 평균 점수를 구해 보자.\n",
    "\n",
    "    과목\t점수\n",
    "    국어\t80\n",
    "    영어\t75\n",
    "    수학\t55   \n",
    "```"
   ]
  },
  {
   "cell_type": "code",
   "execution_count": 6,
   "metadata": {},
   "outputs": [
    {
     "name": "stdout",
     "output_type": "stream",
     "text": [
      "평균은  70.0 점 입니다.\n"
     ]
    }
   ],
   "source": [
    "국어 = 80\n",
    "영어 = 75\n",
    "수학 = 55\n",
    "\n",
    "총점 = 국어 + 영어 + 수학\n",
    "평균 = 총점 / 3\n",
    "\n",
    "print(\"평균은 \",평균, \"점 입니다.\")"
   ]
  },
  {
   "cell_type": "code",
   "execution_count": 9,
   "metadata": {},
   "outputs": [
    {
     "name": "stdout",
     "output_type": "stream",
     "text": [
      "avg =  70.0\n"
     ]
    }
   ],
   "source": [
    "# 국어 점수\n",
    "kor = 80\n",
    "eng = 75\n",
    "math = 55\n",
    "\n",
    "total = kor + eng + math\n",
    "avg = total / 3\n",
    "\n",
    "print(\"avg = \",avg)\n"
   ]
  },
  {
   "cell_type": "code",
   "execution_count": 24,
   "metadata": {},
   "outputs": [
    {
     "name": "stdout",
     "output_type": "stream",
     "text": [
      "<class 'list'>\n",
      "avg =  70.0\n"
     ]
    }
   ],
   "source": [
    "# 과목이 매우 많다면? 변수 하나하나 만드는 게 어려움 => 배열\n",
    "print(type([]))\n",
    "subjects = [80, 75, 55]\n",
    "total = subjects[0] + subjects[1] + subjects[2]\n",
    "len(subject)\n",
    "\n",
    "avg = total / len(subjects)\n",
    "print(\"avg = \",avg)\n"
   ]
  },
  {
   "cell_type": "code",
   "execution_count": 31,
   "metadata": {},
   "outputs": [],
   "source": [
    "# 과목 구분 없이 총점이나 평균만 구할 경우\n",
    "subjects = [80, 75, 55]\n",
    "#total = sum(subjects)\n",
    "#avg = total / len(subjects)"
   ]
  },
  {
   "cell_type": "code",
   "execution_count": 35,
   "metadata": {},
   "outputs": [
    {
     "name": "stdout",
     "output_type": "stream",
     "text": [
      "avg:  70.0\n",
      "<class 'dict'>\n"
     ]
    }
   ],
   "source": [
    "# 과목까지 식별해야 할 경우\n",
    "\n",
    "subjects = {\"국어\":80, \"영어\":75, \"수학\":55}\n",
    "total = subjects[\"국어\"] + subjects[\"영어\"] + subjects[\"수학\"]\n",
    "avg = total / len(subjects)\n",
    "print(\"avg: \",avg)\n",
    "\n",
    "print(type({}))"
   ]
  },
  {
   "cell_type": "code",
   "execution_count": null,
   "metadata": {},
   "outputs": [],
   "source": [
    "# 사용자로부터 이름과 성적을 입력받아 총점과 평균을 구해 출력하는\n",
    "# 프로그램을 작성하시오.\n",
    "\n",
    "name = input(\"이름을 입력하세요: \")\n",
    "kor = input(\"국어 점수를 입력하세요: \")\n",
    "eng = input(\"영어 점수를 입력하세요: \")\n",
    "math = input(\"수학 점수를 입력하세요: \")\n",
    "\n",
    "total = int(kor) + int(eng) + int(math) #str에서 int로 형변환\n",
    "avg = total / 3\n",
    "\n",
    "print(name,\"님의 총점=\",total,\"평균=\",avg,\"입니다.\")\n",
    "#print(\"입력하신 이름은\",name,\"입니다.\")\n",
    "#print(\"평균은\",avg,\"점 입니다\")\n",
    "\n",
    "# print(\"%s님의 총점=%d, 평균=%f 입니다.\".%(name,total,avg))\n"
   ]
  },
  {
   "cell_type": "markdown",
   "metadata": {},
   "source": [
    "> Q2   \n",
    "``` py\n",
    "    자연수 13이 홀수인지 짝수인지 판별할 수 있는 방법에 대해 말해 보자.\n",
    "```"
   ]
  },
  {
   "cell_type": "code",
   "execution_count": null,
   "metadata": {},
   "outputs": [],
   "source": [
    "# 짝수냐 홀수냐?\n",
    "# 2n+1, 2n-1\n",
    "\n",
    "number = input(\"숫자를 입력하세요: \")\n",
    "\n",
    "if number[-1] in \"02468\":\n",
    "    print(\"짝수입니다.\")\n",
    "else:\n",
    "    print(\"홀수입니다.\")"
   ]
  },
  {
   "cell_type": "code",
   "execution_count": 14,
   "metadata": {},
   "outputs": [
    {
     "name": "stdout",
     "output_type": "stream",
     "text": [
      "짝수입니다.\n"
     ]
    }
   ],
   "source": [
    "# 짝수냐 홀수냐?\n",
    "# 2n+1, 2n-1\n",
    "\n",
    "number = int(input(\"숫자를 입력하세요: \"))\n",
    "\n",
    "if number % 2 == 0:\n",
    "    print(\"짝수입니다.\")\n",
    "else:\n",
    "    print(\"홀수입니다.\")"
   ]
  },
  {
   "cell_type": "code",
   "execution_count": null,
   "metadata": {},
   "outputs": [],
   "source": [
    "# 짝수냐 홀수냐?\n",
    "# 2n+1, 2n-1\n",
    "\n",
    "number = input(\"숫자를 입력하세요: \")\n",
    "n=number[-1]\n",
    "\n",
    "if n in \"02468\"\n",
    "    print(\"짝수입니다.\")\n",
    "else:\n",
    "    print(\"홀수입니다.\")\n",
    "\n",
    "if n==1 or n==3 or n==5 or n==7:\n",
    "    print(\"홀수입니다\")"
   ]
  },
  {
   "cell_type": "code",
   "execution_count": 10,
   "metadata": {},
   "outputs": [
    {
     "name": "stdout",
     "output_type": "stream",
     "text": [
      "짝수입니다.\n"
     ]
    }
   ],
   "source": [
    "# 짝수냐 홀수냐?\n",
    "number = input(\"수를 입력하세요: \")\n",
    "\n",
    "even= [0, 2, 4, 6, 8]\n",
    "odd= [1, 3, 5, 7, 9]\n",
    "\n",
    "if int(number[-1]) in even:\n",
    "    print(\"짝수입니다.\")\n",
    "else:\n",
    "    print(\"홀수입니다.\")\n"
   ]
  },
  {
   "cell_type": "markdown",
   "metadata": {},
   "source": [
    "> Q3   \n",
    "``` py   \n",
    "    홍길동 씨의 주민등록번호는 881120-1068234이다.  \n",
    "    홍길동 씨의 주민등록번호를 연월일(YYYYMMDD) 부분과 그 뒤의 숫자 부분으로 나누어 출력해 보자.\n",
    "```"
   ]
  },
  {
   "cell_type": "code",
   "execution_count": 17,
   "metadata": {},
   "outputs": [
    {
     "name": "stdout",
     "output_type": "stream",
     "text": [
      "881120\n",
      "1068234\n"
     ]
    }
   ],
   "source": [
    "num=\"881120-1068234\"\n",
    "\n",
    "print(num[0:6])\n",
    "print(num[7:15])\n"
   ]
  },
  {
   "cell_type": "code",
   "execution_count": 19,
   "metadata": {},
   "outputs": [
    {
     "name": "stdout",
     "output_type": "stream",
     "text": [
      "881120\n"
     ]
    }
   ],
   "source": [
    "pin = \"881120-1068234\"\n",
    "yymmdd = pin[:6]\n",
    "print(yymmdd)"
   ]
  },
  {
   "cell_type": "markdown",
   "metadata": {},
   "source": [
    "> Q4   \n",
    "``` py   \n",
    "    주민등록번호 뒷자리의 맨 첫 번째 숫자는 성별을 나타낸다.    \n",
    "    주민등록번호에서 성별을 나타내는 숫자를 출력해 보자.   \n",
    "```"
   ]
  },
  {
   "cell_type": "code",
   "execution_count": 24,
   "metadata": {},
   "outputs": [
    {
     "name": "stdout",
     "output_type": "stream",
     "text": [
      "당신은 35살 여성입니다.\n"
     ]
    }
   ],
   "source": [
    "pin = input(\"주민번호 13자리 입력하세요: \")\n",
    "\n",
    "year = int(pin[:2])\n",
    "age = 122 - year + 1 #잘못햇다\n",
    "gender = int(pin[7])\n",
    "\n",
    "if gender == 0 or gender ==3:\n",
    "    print(\"당신은 %d살 남성입니다.\" %(age))\n",
    "else:\n",
    "    print(\"당신은 %d살 여성입니다.\" %(age))\n",
    "\n",
    "\n"
   ]
  },
  {
   "cell_type": "code",
   "execution_count": 27,
   "metadata": {},
   "outputs": [
    {
     "name": "stdout",
     "output_type": "stream",
     "text": [
      "당신은 111세 남성입니다.\n"
     ]
    }
   ],
   "source": [
    "# pin = input(\"주민번호 13자리 입력하세요: \")\n",
    "\n",
    "pin=\"1234561234567\"\n",
    "yymmdd = pin[:6]\n",
    "gender = pin[6]\n",
    "\n",
    "year=\"\" #초기화 숫자면 0으로\n",
    "\n",
    "age=0\n",
    "\n",
    "if gender in \"12\":\n",
    "    year = '19' + yymmdd[:2]\n",
    "elif gender in \"34\":\n",
    "    year = '20' + yymmdd[:2]\n",
    "\n",
    "age = 2022 - int(year) + 1\n",
    "\n",
    "print(\"당신의 출생년도는 {}년\".format(year))\n",
    "print(\"당신의 나이는 {}년\".format(age))\n",
    "\n",
    "if int(gender) % 2 ==0:\n",
    "    print(\"여성입니다.\")\n",
    "else:\n",
    "    print(\"남성입니다.\")\n",
    "\n"
   ]
  },
  {
   "cell_type": "markdown",
   "metadata": {},
   "source": [
    "> Q5   \n",
    "``` py\n",
    "    다음과 같은 문자열 a:b:c:d가 있다.    \n",
    "    문자열의 replace 함수를 사용하여 a#b#c#d로 바꿔서 출력해 보자.   \n",
    "```"
   ]
  },
  {
   "cell_type": "code",
   "execution_count": 37,
   "metadata": {},
   "outputs": [
    {
     "name": "stdout",
     "output_type": "stream",
     "text": [
      "a:b:c:d\n",
      "abcd abcd abcd\n",
      "abcd\n",
      "abcd\n",
      "a, b, c, d, "
     ]
    }
   ],
   "source": [
    "text=\"a:b:c:d\"\n",
    "print(text)\n",
    "\"a:b:c:d\".replace(\":\",\"#\")\n",
    "\n",
    "tt=\"12:03:21\"\n",
    "tt.replace(\":\",\"/\")\n",
    "\n",
    "ss=\"12:34:56\"\n",
    "ss.replace(\":\",\" \")\n",
    "\n",
    "strs=\"abcd\"\n",
    "print(strs, end=\" \")\n",
    "print(strs, end=\" \")\n",
    "print(strs, end=\"\\n\")\n",
    "print(strs)\n",
    "print(strs)\n",
    "\n",
    "for c in strs:\n",
    "    print(c,end=\", \")\n"
   ]
  },
  {
   "cell_type": "markdown",
   "metadata": {},
   "source": [
    "> Q6.   \n",
    "``` py   \n",
    "    [1, 3, 5, 4, 2]라는 리스트를 [5, 4, 3, 2, 1]로 만들어보자.   \n",
    "```"
   ]
  },
  {
   "cell_type": "code",
   "execution_count": 43,
   "metadata": {},
   "outputs": [
    {
     "name": "stdout",
     "output_type": "stream",
     "text": [
      "[1, 2, 3, 4, 5]\n",
      "[5, 4, 3, 2, 1]\n"
     ]
    },
    {
     "data": {
      "text/plain": [
       "True"
      ]
     },
     "execution_count": 43,
     "metadata": {},
     "output_type": "execute_result"
    }
   ],
   "source": [
    "li = [1, 3, 5, 4, 2]\n",
    "# li.reverse()\n",
    "# print(li)\n",
    "li.sort()\n",
    "print(li)\n",
    "li.reverse()\n",
    "print(li)\n",
    "min(li) == li[-1]"
   ]
  },
  {
   "cell_type": "markdown",
   "metadata": {},
   "source": [
    "> Q7.   \n",
    "``` py   \n",
    "    ['Life', 'is', 'too', 'short'] 라는 리스트를 Life is too short라는 문자열로 만들어 출력해 보자.   \n",
    "```"
   ]
  },
  {
   "cell_type": "code",
   "execution_count": 48,
   "metadata": {},
   "outputs": [
    {
     "name": "stdout",
     "output_type": "stream",
     "text": [
      "life is too short\n"
     ]
    }
   ],
   "source": [
    "old_text = ['life','is','too','short']\n",
    "new_text = old_text[0] +\" \" + old_text[1]+\" \" +  old_text[2]+\" \" + old_text[3]\n",
    "# new_text = \"{} {} {} {}\".format(old_text[0],old_text[1],old_text[2],old_text[3])\n",
    "\n",
    "\n",
    "print(new_text)"
   ]
  },
  {
   "cell_type": "code",
   "execution_count": 52,
   "metadata": {},
   "outputs": [
    {
     "name": "stdout",
     "output_type": "stream",
     "text": [
      "\n",
      "life \n",
      "life is \n",
      "life is too \n",
      "life is too short \n"
     ]
    }
   ],
   "source": [
    "old_text = ['life','is','too','short']\n",
    "new_text = \"\"\n",
    "for s in old_text:\n",
    "    print(new_text)\n",
    "    new_text += s + \" \"\n",
    "\n",
    "print(new_text)"
   ]
  },
  {
   "cell_type": "markdown",
   "metadata": {},
   "source": [
    "> Q8.   \n",
    "``` py   \n",
    "    (1,2,3)이라는 튜플에 4라는 값을 추가하여 (1,2,3,4)처럼 만들어 출력해 보자.   \n",
    "```"
   ]
  },
  {
   "cell_type": "code",
   "execution_count": 59,
   "metadata": {},
   "outputs": [
    {
     "name": "stdout",
     "output_type": "stream",
     "text": [
      "(1, 2, 3, 4)\n"
     ]
    }
   ],
   "source": [
    "#튜플은 상수..??\n",
    "tu=(1,2,3)\n",
    "#기존에 있는 튜플은 변경이나 추가가 절대 불가능함\n",
    "\n",
    "li2=[1,2,3,4]\n",
    "tu2=tuple(li2)\n",
    "print(tu2)"
   ]
  },
  {
   "cell_type": "markdown",
   "metadata": {},
   "source": [
    "> Q9.   \n",
    "``` py   \n",
    "    다음과 같은 딕셔너리 a가 있다. 다음 중 오류가 발생하는 경우는 어떤 경우인가?   \n",
    "    그리고 그 이유를 설명해 보자.   \n",
    "    >>> a = dict()   \n",
    "    >>> a   \n",
    "    {}   \n",
    "\n",
    "    다음 중 오류가 발생하는 경우를 고르고, 그 이유를 설명해 보자.   \n",
    "\n",
    "    1. a['name'] = 'python'   \n",
    "    2. a[('a',)] = 'python'   \n",
    "    3. a[[1]] = 'python'   \n",
    "    4. a[250] = 'python'   \n",
    "```"
   ]
  },
  {
   "cell_type": "code",
   "execution_count": 72,
   "metadata": {},
   "outputs": [
    {
     "data": {
      "text/plain": [
       "{'name': 'python', ('a',): 'python', 250: 'python'}"
      ]
     },
     "execution_count": 72,
     "metadata": {},
     "output_type": "execute_result"
    }
   ],
   "source": [
    "a = dict()\n",
    "a['name']='python'\n",
    "\n",
    "a[('a',)]='python'\n",
    "\n",
    "a[250]='python'\n",
    "a\n",
    "\n",
    "# a[[1]] = 'python'\n",
    "# mutable한 값은 key값으로 못쓴다 왜냐면 바뀌면 안되니까. 그래서 리스트는 안됨"
   ]
  },
  {
   "cell_type": "code",
   "execution_count": 75,
   "metadata": {},
   "outputs": [],
   "source": [
    "# text = \"Python\"\n",
    "# text[0]='j'\n",
    "# print(text)\n",
    "\n",
    "# 문자열: 상수, 바뀔 수 없음"
   ]
  },
  {
   "cell_type": "markdown",
   "metadata": {},
   "source": [
    "> Q10   \n",
    "``` py   \n",
    "    딕셔너리 a에서 'B'에 해당되는 값을 추출해 보자.   \n",
    "\n",
    "    >>> a = {'A':90, 'B':80, 'C':70}   \n",
    "    ※ 딕셔너리의 pop 함수를 사용해 보자.   \n",
    "```"
   ]
  },
  {
   "cell_type": "code",
   "execution_count": 76,
   "metadata": {},
   "outputs": [
    {
     "name": "stdout",
     "output_type": "stream",
     "text": [
      "{'A': 90, 'C': 70}\n"
     ]
    }
   ],
   "source": [
    "a = {'A':90, 'B':80, 'C':70} \n",
    "# a['B']\n",
    "a.pop('B')\n",
    "print(a)\n",
    "#pop하면 사라짐"
   ]
  },
  {
   "cell_type": "markdown",
   "metadata": {},
   "source": [
    "> Q11   \n",
    "``` py   \n",
    "    a 리스트에서 중복 숫자를 제거해 보자.   \n",
    "\n",
    "    >>> a = [1, 1, 1, 2, 2, 3, 3, 3, 4, 4, 5]    \n",
    "    ※ 집합 자료형의 요솟값이 중복될 수 없다는 특징을 사용해 보자.    \n",
    "```"
   ]
  },
  {
   "cell_type": "code",
   "execution_count": 78,
   "metadata": {},
   "outputs": [
    {
     "name": "stdout",
     "output_type": "stream",
     "text": [
      "{1, 2, 3}\n",
      "[1, 1, 1, 2, 2, 3, 3, 3, 4, 4, 5]\n",
      "{1, 2, 3, 4, 5}\n"
     ]
    }
   ],
   "source": [
    "se={1,2,3,3,1,2}\n",
    "print(se)\n",
    "# set구조, 자바에선 HASHSET:로또번호\n",
    "\n",
    "a=[1,1,1,2,2,3,3,3,4,4,5]\n",
    "a2=set(a)\n",
    "print(a)\n",
    "print(a2)\n"
   ]
  },
  {
   "cell_type": "markdown",
   "metadata": {},
   "source": [
    "> Q12   \n",
    "``` py   \n",
    "    파이썬은 다음처럼 동일한 값에 여러 개의 변수를 선언할 수 있다.    \n",
    "    다음과 같이 a, b 변수를 선언한 후 a의 두 번째 요솟값을 변경하면 b 값은 어떻게 될까?    \n",
    "    그리고 이런 결과가 오는 이유에 대해 설명해 보자.   \n",
    "\n",
    "    >>> a = b = [1, 2, 3]   \n",
    "    >>> a[1] = 4   \n",
    "    >>> print(b)   \n",
    "```"
   ]
  },
  {
   "cell_type": "code",
   "execution_count": 81,
   "metadata": {},
   "outputs": [
    {
     "name": "stdout",
     "output_type": "stream",
     "text": [
      "[1, 4, 3]\n"
     ]
    }
   ],
   "source": [
    "a = b = [1, 2, 3]   #오른쪽꺼가 가운데로 전달돼서 b값이 a에 저장\n",
    "a[1] = 4 \n",
    "print(b)\n"
   ]
  },
  {
   "cell_type": "code",
   "execution_count": 83,
   "metadata": {},
   "outputs": [
    {
     "name": "stdout",
     "output_type": "stream",
     "text": [
      "2596278190016\n",
      "2596278190016\n",
      "[1, 4, 3]\n",
      "[1, 4, 3]\n"
     ]
    }
   ],
   "source": [
    "a = b = [1, 2, 3]\n",
    "\n",
    "print(id(a))\n",
    "print(id(b))\n",
    "a[1]=4\n",
    "print(a)\n",
    "print(b)"
   ]
  },
  {
   "cell_type": "code",
   "execution_count": 85,
   "metadata": {},
   "outputs": [
    {
     "name": "stdout",
     "output_type": "stream",
     "text": [
      "2596278151168\n",
      "2596277793088\n",
      "[1, 4, 3]\n",
      "[1, 2, 3]\n"
     ]
    }
   ],
   "source": [
    "a=[1,2,3]\n",
    "b=[1,2,3]\n",
    "print(id(a))\n",
    "print(id(b))\n",
    "a[1]=4\n",
    "print(a)\n",
    "print(b)"
   ]
  }
 ],
 "metadata": {
  "interpreter": {
   "hash": "4aa7a001941c8b447200068b1d71a3924cf04f02fe096f0aa27a7230a4a7f943"
  },
  "kernelspec": {
   "display_name": "Python 3.10.1 64-bit",
   "language": "python",
   "name": "python3"
  },
  "language_info": {
   "codemirror_mode": {
    "name": "ipython",
    "version": 3
   },
   "file_extension": ".py",
   "mimetype": "text/x-python",
   "name": "python",
   "nbconvert_exporter": "python",
   "pygments_lexer": "ipython3",
   "version": "3.10.1"
  },
  "orig_nbformat": 4
 },
 "nbformat": 4,
 "nbformat_minor": 2
}
