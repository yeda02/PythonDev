{
 "cells": [
  {
   "cell_type": "markdown",
   "metadata": {},
   "source": [
    "> 깃허브 원격 저장소 만들기"
   ]
  },
  {
   "cell_type": "code",
   "execution_count": null,
   "metadata": {},
   "outputs": [],
   "source": [
    "\"\"\"\n",
    "1. 깃허브에 로그인한 후 화면 상단 오른쪽 [+]를 누르고   \n",
    "    [New repository]를 선택\n",
    "2. 저장소 이름을 비롯해서 필요한 항목을 기입[Create repository]\n",
    "3. 저장소를 만들었다면 화면에 나타난 HTTPS 주소를 사용해 언제든지\n",
    "    깃허브 저장소에 접속, 파일을 올릴 수도 있다. 즉 저장소 주소만 알고\n",
    "    있다면 어디에서든 지역 저장소를 백업하거나 다른 사람과 협업 가능하다.\n",
    "\n",
    "    HTTPS로 접속하는 주소는 다음고 같은 형태이다.\n",
    "    https://github.com/아이디/저장소이름\n",
    "\n",
    "    예) HTTPS|SSH https://github.com/narospace/test-1.git\n",
    "\"\"\""
   ]
  },
  {
   "cell_type": "markdown",
   "metadata": {},
   "source": [
    "> 원격 저장소 가져오기"
   ]
  },
  {
   "cell_type": "code",
   "execution_count": null,
   "metadata": {},
   "outputs": [],
   "source": [
    "\"\"\"\n",
    "1. 원격저장소(github)의 저장소로부터 주소 복사\n",
    "2. 원격 저장소를 저장할 경로에서 마우스 오른 버튼 'Git Bash Here' 클릭\n",
    "    happycom@HAPPY-COM MINGW64 /c/Temp\n",
    "    $ git clone https://github.com/narospace/IntroducingPython.git\n",
    "3.\n",
    "    $ cd IntroducingPython/\n",
    "\n",
    "    happycom@HAPPY-COM MINGW64 /c/Temp/IntroducingPython (main)\n",
    "    $ ls\n",
    "    README.md\n",
    "\n",
    "4.  happycom@HAPPY-COM MINGW64 /c/Temp/IntroducingPython (main)\n",
    "    $ git remote -v\n",
    "    origin  https://github.com/narospace/IntroducingPython.git (fetch)\n",
    "    origin  https://github.com/narospace/IntroducingPython.git (push)\n",
    "\n",
    "\"\"\""
   ]
  },
  {
   "cell_type": "markdown",
   "metadata": {},
   "source": [
    "> 깃 환경설정하기"
   ]
  },
  {
   "cell_type": "code",
   "execution_count": null,
   "metadata": {},
   "outputs": [],
   "source": [
    "\"\"\"\n",
    "1.  설정정보 확인\n",
    "    $ git config -l\n",
    "    ...\n",
    "    user.name=bitcamp\n",
    "    user.email=call1212@narospace.com\n",
    "    remote.origin.url=https://github.com/narospace/IntroducingPython.git\n",
    "    ...\n",
    "\n",
    "    $ git config user.name\n",
    "    bitcamp\n",
    "\n",
    "    $ git config user.email\n",
    "    call1212@narospace.com\n",
    "\n",
    "    $ git remote\n",
    "    origin\n",
    "\n",
    "    $ git remote -v\n",
    "    origin  https://github.com/narospace/IntroducingPython.git (fetch)\n",
    "    origin  https://github.com/narospace/IntroducingPython.git (push)\n",
    "\n",
    "    $ git remote set-url origin https://call1212@github.com/narospace/test-1.git\n",
    "\n",
    "2. 사용자 정보 설정\n",
    "    $ git config --global user.name \"bitcamp\"\n",
    "    $ git config --global user.email \"call1212@narospace.com\"\n",
    "    \n",
    "3. 원격 저장소 설정\n",
    "    $ git remote add origin \"복사한 주소 붙여넣기\"\n",
    "\n",
    "\"\"\""
   ]
  },
  {
   "cell_type": "markdown",
   "metadata": {},
   "source": [
    "> 깃 스테이징 및 커밋"
   ]
  },
  {
   "cell_type": "code",
   "execution_count": null,
   "metadata": {},
   "outputs": [],
   "source": [
    "\"\"\"\n",
    "0. git status\n",
    "1. git add .\n",
    "2. git commit -m \"message\"\n",
    "3. git log --oneline --branches --graph\n",
    "0. git status\n",
    "\"\"\""
   ]
  },
  {
   "cell_type": "markdown",
   "metadata": {},
   "source": [
    "> 깃 푸시(push) & 풀(pull)"
   ]
  },
  {
   "cell_type": "code",
   "execution_count": null,
   "metadata": {},
   "outputs": [],
   "source": [
    "\"\"\"\n",
    "0. git fetch origin main\n",
    "    git checkout FETCH_HEAD\n",
    "    git checkout master\n",
    "    git merge FETCH_HEAD\n",
    "\n",
    "1. git pull origin main\n",
    "2. git push origin main\n",
    "\n",
    "\"\"\"\n"
   ]
  }
 ],
 "metadata": {
  "language_info": {
   "name": "python"
  },
  "orig_nbformat": 4
 },
 "nbformat": 4,
 "nbformat_minor": 2
}
