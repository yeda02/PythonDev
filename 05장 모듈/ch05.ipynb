{
 "cells": [
  {
   "cell_type": "markdown",
   "metadata": {},
   "source": [
    "#### 점프투파이썬\n",
    "---\n",
    "05장 연습문제"
   ]
  },
  {
   "cell_type": "markdown",
   "metadata": {},
   "source": [
    "\n",
    "> Q1\n",
    "``` py\n",
    "    다음은 Calculator 클래스이다.\n",
    "\n",
    "    class Calculator:\n",
    "        def __init__(self):\n",
    "            self.value = 0\n",
    "\n",
    "        def add(self, val):\n",
    "            self.value += val\n",
    "    위 클래스를 상속하는 UpgradeCalculator를 만들고 값을 뺄 수 있는 minus 메서드를 추가해 보자. \n",
    "    즉 다음과 같이 동작하는 클래스를 만들어야 한다.\n",
    "\n",
    "    cal = UpgradeCalculator()\n",
    "    cal.add(10)\n",
    "    cal.minus(7)\n",
    "\n",
    "    print(cal.value) # 10에서 7을 뺀 3을 출력\n",
    "```"
   ]
  },
  {
   "cell_type": "markdown",
   "metadata": {},
   "source": [
    "> Q2\n",
    "``` py\n",
    "    객체변수 value가 100 이상의 값은 가질 수 없도록 제한하는 MaxLimitCalculator 클래스를 만들어 보자. \n",
    "    즉 다음과 같이 동작해야 한다.\n",
    "\n",
    "    cal = MaxLimitCalculator()\n",
    "    cal.add(50) # 50 더하기\n",
    "    cal.add(60) # 60 더하기\n",
    "\n",
    "    print(cal.value) # 100 출력\n",
    "    단 반드시 다음과 같은 Calculator 클래스를 상속해서 만들어야 한다.\n",
    "\n",
    "    class Calculator:\n",
    "        def __init__(self):\n",
    "            self.value = 0\n",
    "\n",
    "        def add(self, val):\n",
    "            self.value += val\n",
    "```"
   ]
  },
  {
   "cell_type": "markdown",
   "metadata": {},
   "source": [
    "> Q3\n",
    "``` py\n",
    "    다음 결과를 예측해 보자.\n",
    "    하나.\n",
    "    >>> all([1, 2, abs(-3)-3])\n",
    "    둘.\n",
    "    >>> chr(ord('a')) == 'a'\n",
    "```"
   ]
  },
  {
   "cell_type": "markdown",
   "metadata": {},
   "source": [
    "> Q4\n",
    " ``` py\n",
    "   filter와 lambda를 사용하여 리스트 [1, -2, 3, -5, 8, -3]에서 음수를 모두 제거해 보자.\n",
    " ```"
   ]
  },
  {
   "cell_type": "markdown",
   "metadata": {},
   "source": [
    "> Q5\n",
    "``` py\n",
    "    234라는 10진수의 16진수는 다음과 같이 구할 수 있다.\n",
    "    >>> hex(234)\n",
    "    '0xea'\n",
    "    이번에는 반대로 16진수 문자열 0xea를 10진수로 변경해 보자.\n",
    "    ※ 내장 함수 int를 활용해 보자.\n",
    "```"
   ]
  },
  {
   "cell_type": "markdown",
   "metadata": {},
   "source": [
    "> Q6\n",
    "``` py\n",
    "  map과 lambda를 사용하여 [1, 2, 3, 4] 리스트의 각 요솟값에 3이 곱해진 리스트 [3, 6, 9, 12]를 만들어 보자.\n",
    "```"
   ]
  },
  {
   "cell_type": "markdown",
   "metadata": {},
   "source": [
    "> Q7\n",
    "``` py\n",
    "    다음 리스트의 최댓값과 최솟값의 합을 구해 보자.\n",
    "    [-8, 2, 7, 5, -3, 5, 0, 1]\n",
    "```"
   ]
  },
  {
   "cell_type": "markdown",
   "metadata": {},
   "source": [
    "> Q8\n",
    "``` py\n",
    "    17 / 3의 결과는 다음과 같다.\n",
    "\n",
    "    >>> 17 / 3\n",
    "    5.666666666666667\n",
    "    위와 같은 결괏값 5.666666666666667을 소숫점 4자리까지만 반올림하여 표시해 보자. \n",
    "```"
   ]
  },
  {
   "cell_type": "markdown",
   "metadata": {},
   "source": [
    "> Q9\n",
    "``` py\n",
    "    다음과 같이 실행할 때 입력값을 모두 더하여 출력하는 스크립트(C:\\doit\\myargv.py)를 작성해 보자.\n",
    "    C:\\> cd doit\n",
    "    C:\\doit> python myargv.py 1 2 3 4 5 6 7 8 9 10\n",
    "    55\n",
    "    ※ 외장 함수 sys.argv를 사용해 보자.\n",
    "```"
   ]
  },
  {
   "cell_type": "markdown",
   "metadata": {},
   "source": [
    "> Q10\n",
    "``` py\n",
    "    os 모듈을 사용하여 다음과 같이 동작하도록 코드를 작성해 보자.\n",
    "\n",
    "    1. C:\\doit 디렉터리로 이동한다.\n",
    "    2. dir 명령을 실행하고 그 결과를 변수에 담는다.\n",
    "    3. dir 명령의 결과를 출력한다.\n",
    "```"
   ]
  },
  {
   "cell_type": "markdown",
   "metadata": {},
   "source": [
    "> Q11\n",
    "``` py\n",
    "    glob 모듈을 사용하여 C:\\doit 디렉터리의 파일 중 확장자가 .py인 파일만 출력하는 프로그램을 작성해 보자.\n",
    "```"
   ]
  },
  {
   "cell_type": "markdown",
   "metadata": {},
   "source": [
    "> Q12\n",
    "``` py\n",
    "    time 모듈을 사용하여 현재 날짜와 시간을 다음과 같은 형식으로 출력해 보자.\n",
    "    2018/04/03 17:20:32\n",
    "```"
   ]
  },
  {
   "cell_type": "markdown",
   "metadata": {},
   "source": [
    "> Q13\n",
    "``` py\n",
    "    random 모듈을 사용하여 로또 번호(1~45 사이의 숫자 6개)를 생성해 보자(단 중복된 숫자가 있으면 안 됨).\n",
    "```"
   ]
  },
  {
   "cell_type": "markdown",
   "metadata": {},
   "source": [
    "#### 웹 스크래핑\n",
    "---"
   ]
  },
  {
   "cell_type": "markdown",
   "metadata": {},
   "source": [
    "> 모듈 설치하기"
   ]
  },
  {
   "cell_type": "code",
   "execution_count": null,
   "metadata": {},
   "outputs": [],
   "source": [
    "# [cmd], 터미널(ctrl + `) 에서\n",
    "# pip install 모듈이름\n",
    "\n",
    "# pip install beautifulsoup4"
   ]
  },
  {
   "cell_type": "markdown",
   "metadata": {},
   "source": [
    "> BeautifulSoup 모듈"
   ]
  },
  {
   "cell_type": "code",
   "execution_count": 16,
   "metadata": {},
   "outputs": [
    {
     "name": "stdout",
     "output_type": "stream",
     "text": [
      "서초구 서초1동의 현재온도는 현재 온도-2°입니다\n"
     ]
    }
   ],
   "source": [
    "# 웹 페이지 분석 모듈\n",
    "# 현재위치와 현재 온도 출력\n",
    "# 네이버 오늘의 날씨(https://weather.naver.com/today)\n",
    "\n",
    "from urllib import request\n",
    "from bs4 import BeautifulSoup\n",
    "\n",
    "target = request.urlopen(\"https://weather.naver.com/today\")\n",
    "soup = BeautifulSoup(target, \"html.parser\")\n",
    "\n",
    "data = soup.find('div',{'class':'location_area'})\n",
    "address = data.find('strong',{'class':'location_name'}).text\n",
    "# .text 태그명을 제외한 값만 빼올 수 있음\n",
    "\n",
    "# print(address)\n",
    "\n",
    "temp = soup.find('strong',{'class':'current minus'}).text.replace(\"현재온도\",'')\n",
    "\n",
    "print(\"{}의 현재온도는 {}입니다\".format(address,temp))"
   ]
  },
  {
   "cell_type": "code",
   "execution_count": null,
   "metadata": {},
   "outputs": [],
   "source": [
    "# 웹 페이지 분석 모듈\n",
    "# 현재위치와 현재 온도 출력\n",
    "# 네이버 오늘의 날씨(https://weather.naver.com/today)\n",
    "\n",
    "# from urllib import request\n",
    "# from bs4 import BeautifulSoup\n",
    "\n",
    "# target = request.urlopen('https://weather.naver.com/today')\n",
    "# soup = BeautifulSoup(target, \"html.parser\")\n",
    "\n",
    "# data = soup.find('div', {'class':'location_area'})\n",
    "# address = data.find('strong', {'class':'location_name'}).text\n",
    "# temp = soup.find('strong', {'class':'current'}).get_text().replace(\"현재 온도\",\"\")\n",
    "\n",
    "# print(f\"오늘 {address}의 날씨는 {temp}입니다.\")"
   ]
  }
 ],
 "metadata": {
  "interpreter": {
   "hash": "4aa7a001941c8b447200068b1d71a3924cf04f02fe096f0aa27a7230a4a7f943"
  },
  "kernelspec": {
   "display_name": "Python 3.10.1 64-bit",
   "language": "python",
   "name": "python3"
  },
  "language_info": {
   "codemirror_mode": {
    "name": "ipython",
    "version": 3
   },
   "file_extension": ".py",
   "mimetype": "text/x-python",
   "name": "python",
   "nbconvert_exporter": "python",
   "pygments_lexer": "ipython3",
   "version": "3.10.1"
  },
  "orig_nbformat": 4
 },
 "nbformat": 4,
 "nbformat_minor": 2
}
